{
 "cells": [
  {
   "cell_type": "code",
   "execution_count": null,
   "id": "2e81ccfa",
   "metadata": {},
   "outputs": [],
   "source": [
    "#Why Django should be used for web-development? Explain how you can create a project in Django?\n",
    "\n",
    "-It allows you to divide code modules into logical groups to make it flexible to change\n",
    "-To ease the website administration, it provides auto-generated web admin\n",
    "-It provides pre-packaged API for common user tasks\n",
    "-It gives you template system to define HTML template for your web page to avoid code duplication\n",
    "-It enables you to define what URL be for a given function\n",
    "-It enables you to separate business logic from the HTML\n",
    "-Everything is in python.\n",
    "\n",
    " To start a project in Django, you use command $ django-admin.py and then use the command\n",
    "Project\n",
    "_init_.py\n",
    "manage.py\n",
    "settings.py\n",
    "urls.py"
   ]
  },
  {
   "cell_type": "code",
   "execution_count": null,
   "id": "bc23d31c",
   "metadata": {},
   "outputs": [],
   "source": [
    "#How to check installed version of django?\n",
    "\n",
    "You can install Django using pip. Here is the command:\n",
    "\n",
    ">> pip install django\n",
    "\n",
    "As before, if you are working in a virtual environment, remember to activate the virtual environment before running this \n",
    "command.\n",
    "\n",
    "If you have several python installations in your machine, make sure the pip command you are using belongs to the correct\n",
    "python installation.\n",
    "\n",
    "By running below command on Terminal.You can check installed version of Django Framework.\n",
    "\n",
    "py -m django –version"
   ]
  },
  {
   "cell_type": "code",
   "execution_count": null,
   "id": "9ef2cc48",
   "metadata": {},
   "outputs": [],
   "source": [
    "#Mention what command line can be used to load data into Django?\n",
    "\n",
    "To load data into Django you have to use the command line Django-admin.py loaddata. The command line will searches the\n",
    "data and loads the contents of the named fixtures into the database."
   ]
  },
  {
   "cell_type": "code",
   "execution_count": null,
   "id": "9ff294a6",
   "metadata": {},
   "outputs": [],
   "source": [
    "#Explain what does django-admin.py make messages command is used for?\n",
    "\n",
    "This command line executes over the entire source tree of the current directory and abstracts all the strings marked for \n",
    "translation.  It makes a message file in the locale directory."
   ]
  },
  {
   "cell_type": "code",
   "execution_count": null,
   "id": "6a5aa012",
   "metadata": {},
   "outputs": [],
   "source": [
    "#What is .Django URLs?make program to create django urls\n",
    "\n",
    "URLs are one of the most important parts of a web application and Django provides you with an elegant way to design your \n",
    "own custom URLs with help of its module known as URLconf (URL Configuration). The basic functionality of this python module\n",
    "is to You can design your own URLs in Django in the way you like and then map them to the python function (View function).\n",
    "\n",
    "Here’s a sample code for books/urls.py:\n",
    "\n",
    "from django.urls import path\n",
    "from . import views\n",
    "  \n",
    "urlpatterns = [\n",
    "    path('books/<int:pk>/', views.book_detail),\n",
    "    path('books/<str:genre>/', views.books_by_genre),\n",
    "    path('books/', views.book_index), \n",
    "]\n"
   ]
  },
  {
   "cell_type": "code",
   "execution_count": null,
   "id": "d2910386",
   "metadata": {},
   "outputs": [],
   "source": [
    "#What is a QuerySet?Write program to create a new Post object in database:\n",
    "\n",
    "A queryset is simply a list of objects from the Django Models. When using the Django ORM creating a new row in the table \n",
    "is simply like creating a new object of Model class. Django ORM maps these Model objects to Relational database query.\n",
    "\n",
    "Any SQL query can be written easily as Django queryset. You can separately test the query for Create, Filter, Update, Order\n",
    ", etc. in Django Shell or in the views.py.\n",
    "\n",
    "#program to create a new Post object in database:\n",
    "\n",
    "from django.db import models\n",
    "from django.template.defaultfilters import slugify\n",
    "from django.contrib.auth.models import User\n",
    "from django.urls import reverse\n",
    "\n",
    "\n",
    "class Post(models.Model):\n",
    "    title = models.CharField(max_length=255)\n",
    "    slug = models.SlugField(unique=True, max_length=255)\n",
    "    content = models.TextField()\n",
    "    created_on = models.DateTimeField(auto_now_add=True)\n",
    "    author = models.TextField()\n",
    "\n",
    "    def get_absolute_url(self):\n",
    "        return reverse('blog_post_detail', args=[self.slug])\n",
    "   "
   ]
  }
 ],
 "metadata": {
  "kernelspec": {
   "display_name": "Python 3 (ipykernel)",
   "language": "python",
   "name": "python3"
  },
  "language_info": {
   "codemirror_mode": {
    "name": "ipython",
    "version": 3
   },
   "file_extension": ".py",
   "mimetype": "text/x-python",
   "name": "python",
   "nbconvert_exporter": "python",
   "pygments_lexer": "ipython3",
   "version": "3.9.12"
  }
 },
 "nbformat": 4,
 "nbformat_minor": 5
}
